{
 "cells": [
  {
   "cell_type": "code",
   "execution_count": 3,
   "id": "a2a28f37",
   "metadata": {},
   "outputs": [],
   "source": [
    "import json\n",
    "import time\n",
    "#Reading inventory\n",
    "fd=open(\"records.json\",\"r\")\n",
    "r=fd.read()\n",
    "fd.close()\n",
    "record=json.loads(r)"
   ]
  },
  {
   "cell_type": "code",
   "execution_count": 4,
   "id": "7cd063f9",
   "metadata": {},
   "outputs": [
    {
     "data": {
      "text/plain": [
       "{'1001': {'Product': 'Honey', 'Quantity': 43, 'Price': 300},\n",
       " '1002': {'Product': 'Glucose', 'Quantity': 50, 'Price': 85},\n",
       " '1003': {'Product': 'Snickers', 'Quantity': 50, 'Price': 99},\n",
       " '1004': {'Product': 'Hide&Seek', 'Quantity': 50, 'Price': 70},\n",
       " '1005': {'Product': 'Pen stand', 'Quantity': 50, 'Price': 40},\n",
       " '1006': {'Product': 'Sticky Notes', 'Quantity': 50, 'Price': 80},\n",
       " '1007': {'Product': 'Glass Jars', 'Quantity': 50, 'Price': 200},\n",
       " '1008': {'Product': 'Perk', 'Quantity': 50, 'Price': 30},\n",
       " '1009': {'Product': 'Colgate Paste', 'Quantity': 50, 'Price': 70},\n",
       " '1010': {'Product': 'shower gel', 'Quantity': 50, 'Price': 125},\n",
       " '1011': {'Product': 'Dabur Gulabari', 'Quantity': 50, 'Price': 85},\n",
       " '1012': {'Product': 'Vaseline', 'Quantity': 50, 'Price': 300},\n",
       " '1013': {'Product': 'Face wash', 'Quantity': 50, 'Price': 100},\n",
       " '1014': {'Product': 'Parle 20-20', 'Quantity': 50, 'Price': 65},\n",
       " '1015': {'Product': 'Red Gram', 'Quantity': 50, 'Price': 80},\n",
       " '1016': {'Product': 'Green Gram', 'Quantity': 50, 'Price': 90},\n",
       " '1017': {'Product': 'Black Gram', 'Quantity': 50, 'Price': 140},\n",
       " '1018': {'Product': 'Non-stick Pan', 'Quantity': 50, 'Price': 250},\n",
       " '1019': {'Product': 'Bottle pack', 'Quantity': 50, 'Price': 100},\n",
       " '1020': {'Product': '5-star', 'Quantity': 48, 'Price': 15},\n",
       " '1021': {'Product': 'Kit-Kat', 'Quantity': 50, 'Price': 40},\n",
       " '1022': {'Product': 'Shampoo', 'Quantity': 50, 'Price': 500},\n",
       " '1023': {'Product': 'Fogg', 'Quantity': 50, 'Price': 250},\n",
       " '1024': {'Product': 'Bitcopack', 'Quantity': 50, 'Price': 100},\n",
       " '1025': {'Product': 'Apsara Extra Dark pack', 'Quantity': 50, 'Price': 85},\n",
       " '1026': {'Product': 'Thums-up', 'Quantity': 50, 'Price': 95},\n",
       " '1027': {'Product': 'Fanta', 'Quantity': 50, 'Price': 80},\n",
       " '1028': {'Product': 'Sprite', 'Quantity': 50, 'Price': 95},\n",
       " '1029': {'Product': 'Maggi', 'Quantity': 50, 'Price': 100},\n",
       " '1030': {'Product': 'Yippee', 'Quantity': 45, 'Price': 90},\n",
       " '1040': {'Product': 'ink', 'Quantity': 80, 'Price': 20},\n",
       " '1041': {'Product': 'eraser', 'Quantity': 20, 'Price': 3}}"
      ]
     },
     "execution_count": 4,
     "metadata": {},
     "output_type": "execute_result"
    }
   ],
   "source": [
    "record"
   ]
  },
  {
   "cell_type": "code",
   "execution_count": 37,
   "id": "e65107a0",
   "metadata": {},
   "outputs": [
    {
     "name": "stdout",
     "output_type": "stream",
     "text": [
      "Enter  the product_ID:1027\n",
      "Enter the quantity:2\n",
      "Product: Fanta\n",
      "Price: 80\n",
      "***********************\n",
      "Billing Amount: 160\n"
     ]
    }
   ],
   "source": [
    "#Purchase\n",
    "ui_prod=str(input(\"Enter  the product_ID:\"))\n",
    "ui_quant=int(input(\"Enter the quantity:\"))\n",
    "print(\"Product:\", record[ui_prod]['Product'])\n",
    "print(\"Price:\", record[ui_prod]['Price'])\n",
    "print(\"***********************\")\n",
    "print(\"Billing Amount:\", record[ui_prod]['Price'] * ui_quant)\n",
    "\n",
    "record[ui_prod]['Quantity'] = record[ui_prod]['Quantity'] - ui_quant"
   ]
  },
  {
   "cell_type": "code",
   "execution_count": 38,
   "id": "d8da185e",
   "metadata": {},
   "outputs": [],
   "source": [
    "#Update\n",
    "js = json.dumps(record)\n",
    "\n",
    "fd = open(\"records.json\",'w')\n",
    "fd.write(js)\n",
    "fd.close()"
   ]
  },
  {
   "cell_type": "code",
   "execution_count": 39,
   "id": "e9ca0d8c",
   "metadata": {},
   "outputs": [
    {
     "data": {
      "text/plain": [
       "{'1001': {'Product': 'Honey', 'Quantity': 43, 'Price': 300},\n",
       " '1002': {'Product': 'Glucose', 'Quantity': 50, 'Price': 85},\n",
       " '1003': {'Product': 'Snickers', 'Quantity': 50, 'Price': 99},\n",
       " '1004': {'Product': 'Hide&Seek', 'Quantity': 50, 'Price': 70},\n",
       " '1005': {'Product': 'Pen stand', 'Quantity': 50, 'Price': 40},\n",
       " '1006': {'Product': 'Sticky Notes', 'Quantity': 50, 'Price': 80},\n",
       " '1007': {'Product': 'Glass Jars', 'Quantity': 50, 'Price': 200},\n",
       " '1008': {'Product': 'Perk', 'Quantity': 50, 'Price': 30},\n",
       " '1009': {'Product': 'Colgate Paste', 'Quantity': 50, 'Price': 70},\n",
       " '1010': {'Product': 'shower gel', 'Quantity': 50, 'Price': 125},\n",
       " '1011': {'Product': 'Dabur Gulabari', 'Quantity': 50, 'Price': 85},\n",
       " '1012': {'Product': 'Vaseline', 'Quantity': 50, 'Price': 300},\n",
       " '1013': {'Product': 'Face wash', 'Quantity': 50, 'Price': 100},\n",
       " '1014': {'Product': 'Parle 20-20', 'Quantity': 50, 'Price': 65},\n",
       " '1015': {'Product': 'Red Gram', 'Quantity': 50, 'Price': 80},\n",
       " '1016': {'Product': 'Green Gram', 'Quantity': 50, 'Price': 90},\n",
       " '1017': {'Product': 'Black Gram', 'Quantity': 50, 'Price': 140},\n",
       " '1018': {'Product': 'Non-stick Pan', 'Quantity': 50, 'Price': 250},\n",
       " '1019': {'Product': 'Bottle pack', 'Quantity': 50, 'Price': 100},\n",
       " '1020': {'Product': '5-star', 'Quantity': 48, 'Price': 15},\n",
       " '1021': {'Product': 'Kit-Kat', 'Quantity': 47, 'Price': 40},\n",
       " '1022': {'Product': 'Shampoo', 'Quantity': 50, 'Price': 500},\n",
       " '1023': {'Product': 'Fogg', 'Quantity': 50, 'Price': 250},\n",
       " '1024': {'Product': 'Bitcopack', 'Quantity': 50, 'Price': 100},\n",
       " '1025': {'Product': 'Apsara Extra Dark pack', 'Quantity': 50, 'Price': 85},\n",
       " '1026': {'Product': 'Thums-up', 'Quantity': 50, 'Price': 95},\n",
       " '1027': {'Product': 'Fanta', 'Quantity': 48, 'Price': 80},\n",
       " '1028': {'Product': 'Sprite', 'Quantity': 50, 'Price': 95},\n",
       " '1029': {'Product': 'Maggi', 'Quantity': 50, 'Price': 100},\n",
       " '1030': {'Product': 'Yippee', 'Quantity': 45, 'Price': 90},\n",
       " '1040': {'Product': 'ink', 'Quantity': 80, 'Price': 20},\n",
       " '1041': {'Product': 'eraser', 'Quantity': 18, 'Price': 3}}"
      ]
     },
     "execution_count": 39,
     "metadata": {},
     "output_type": "execute_result"
    }
   ],
   "source": [
    "record"
   ]
  },
  {
   "cell_type": "code",
   "execution_count": 8,
   "id": "70c97e4b",
   "metadata": {},
   "outputs": [],
   "source": [
    "#Sales\n",
    "sales={}\n",
    "trans_id=1"
   ]
  },
  {
   "cell_type": "code",
   "execution_count": 40,
   "id": "3a1be601",
   "metadata": {},
   "outputs": [],
   "source": [
    "#{'Name' : ui_prod, 'Quant' : ui_quant, 'Amount': record[ui_prod]['Price'] * ui_quant}\n",
    "sales[trans_id]={'prod_id':ui_prod,'Name':record[ui_prod]['Product'],'price':int(record[ui_prod]['Price'])*ui_quant,'quantity':ui_quant,'Time':time.ctime()}\n",
    "trans_id=trans_id+1\n",
    "js=json.dumps(sales)\n",
    "fd=open(\"sales.json\",'w')\n",
    "fd.write(js)\n",
    "fd.close()"
   ]
  },
  {
   "cell_type": "code",
   "execution_count": 41,
   "id": "b84eda38",
   "metadata": {},
   "outputs": [
    {
     "name": "stdout",
     "output_type": "stream",
     "text": [
      "Trans_No\tName\t\tQuantity\tPrice\tTime\n",
      "1\t\teraser\t\t2\t\t6\tSun Sep  5 20:35:43 2021\n",
      "2\t\tKit-Kat\t\t3\t\t120\tSun Sep  5 20:36:42 2021\n",
      "3\t\tFanta\t\t2\t\t160\tSun Sep  5 21:05:20 2021\n"
     ]
    }
   ],
   "source": [
    "print(\"Trans_No\\tName\\t\\tQuantity\\tPrice\\tTime\" )\n",
    "for i in sales:\n",
    "    s=str(i)+\"\\t\\t\"+sales[i]['Name']+\"\\t\\t\"+str(sales[i]['quantity'])+\"\\t\\t\"+str(sales[i]['price'])+\"\\t\"+sales[i]['Time']\n",
    "    print(s)\n"
   ]
  },
  {
   "cell_type": "code",
   "execution_count": null,
   "id": "854dbc14",
   "metadata": {},
   "outputs": [],
   "source": []
  },
  {
   "cell_type": "code",
   "execution_count": null,
   "id": "89fc4b99",
   "metadata": {},
   "outputs": [],
   "source": []
  }
 ],
 "metadata": {
  "kernelspec": {
   "display_name": "Python 3",
   "language": "python",
   "name": "python3"
  },
  "language_info": {
   "codemirror_mode": {
    "name": "ipython",
    "version": 3
   },
   "file_extension": ".py",
   "mimetype": "text/x-python",
   "name": "python",
   "nbconvert_exporter": "python",
   "pygments_lexer": "ipython3",
   "version": "3.8.8"
  }
 },
 "nbformat": 4,
 "nbformat_minor": 5
}
