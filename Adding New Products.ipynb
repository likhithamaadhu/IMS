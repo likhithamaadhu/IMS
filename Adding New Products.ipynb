{
 "cells": [
  {
   "cell_type": "code",
   "execution_count": 2,
   "id": "6b8d13da",
   "metadata": {},
   "outputs": [],
   "source": [
    "#Reading from json file\n",
    "import json\n",
    "fd = open(\"records.json\",'r')\n",
    "r = fd.read()\n",
    "fd.close()\n",
    "\n",
    "record = json.loads(r)"
   ]
  },
  {
   "cell_type": "code",
   "execution_count": 3,
   "id": "ddcded0b",
   "metadata": {},
   "outputs": [
    {
     "data": {
      "text/plain": [
       "{'1001': {'Product': 'Honey', 'Quantity': 43, 'Price': 300},\n",
       " '1002': {'Product': 'Glucose', 'Quantity': 50, 'Price': 85},\n",
       " '1003': {'Product': 'Snickers', 'Quantity': 50, 'Price': 99},\n",
       " '1004': {'Product': 'Hide&Seek', 'Quantity': 50, 'Price': 70},\n",
       " '1005': {'Product': 'Pen stand', 'Quantity': 50, 'Price': 40},\n",
       " '1006': {'Product': 'Sticky Notes', 'Quantity': 50, 'Price': 80},\n",
       " '1007': {'Product': 'Glass Jars', 'Quantity': 50, 'Price': 200},\n",
       " '1008': {'Product': 'Perk', 'Quantity': 50, 'Price': 30},\n",
       " '1009': {'Product': 'Colgate Paste', 'Quantity': 50, 'Price': 70},\n",
       " '1010': {'Product': 'shower gel', 'Quantity': 50, 'Price': 125},\n",
       " '1011': {'Product': 'Dabur Gulabari', 'Quantity': 50, 'Price': 85},\n",
       " '1012': {'Product': 'Vaseline', 'Quantity': 50, 'Price': 300},\n",
       " '1013': {'Product': 'Face wash', 'Quantity': 50, 'Price': 100},\n",
       " '1014': {'Product': 'Parle 20-20', 'Quantity': 50, 'Price': 65},\n",
       " '1015': {'Product': 'Red Gram', 'Quantity': 50, 'Price': 80},\n",
       " '1016': {'Product': 'Green Gram', 'Quantity': 50, 'Price': 90},\n",
       " '1017': {'Product': 'Black Gram', 'Quantity': 50, 'Price': 140},\n",
       " '1018': {'Product': 'Non-stick Pan', 'Quantity': 50, 'Price': 250},\n",
       " '1019': {'Product': 'Bottle pack', 'Quantity': 50, 'Price': 100},\n",
       " '1020': {'Product': '5-star', 'Quantity': 48, 'Price': 15},\n",
       " '1021': {'Product': 'Kit-Kat', 'Quantity': 50, 'Price': 40},\n",
       " '1022': {'Product': 'Shampoo', 'Quantity': 50, 'Price': 500},\n",
       " '1023': {'Product': 'Fogg', 'Quantity': 50, 'Price': 250},\n",
       " '1024': {'Product': 'Bitcopack', 'Quantity': 50, 'Price': 100},\n",
       " '1025': {'Product': 'Apsara Extra Dark pack', 'Quantity': 50, 'Price': 85},\n",
       " '1026': {'Product': 'Thums-up', 'Quantity': 50, 'Price': 95},\n",
       " '1027': {'Product': 'Fanta', 'Quantity': 50, 'Price': 80},\n",
       " '1028': {'Product': 'Sprite', 'Quantity': 50, 'Price': 95},\n",
       " '1029': {'Product': 'Maggi', 'Quantity': 50, 'Price': 100},\n",
       " '1030': {'Product': 'Yippee', 'Quantity': 45, 'Price': 90}}"
      ]
     },
     "execution_count": 3,
     "metadata": {},
     "output_type": "execute_result"
    }
   ],
   "source": [
    "record"
   ]
  },
  {
   "cell_type": "code",
   "execution_count": 4,
   "id": "d3e79702",
   "metadata": {},
   "outputs": [
    {
     "name": "stdout",
     "output_type": "stream",
     "text": [
      "Enter product id:1040\n",
      "Enter name:ink\n",
      "Enter quantity:80\n",
      "Enter price:20\n",
      "\n",
      "**Item added to inventory**\n"
     ]
    }
   ],
   "source": [
    "#Adding record to inventory\n",
    "prod_id = str(input(\"Enter product id:\"))\n",
    "name = str(input(\"Enter name:\"))\n",
    "qn = int(input(\"Enter quantity:\"))\n",
    "pr = int(input(\"Enter price:\"))\n",
    "\n",
    "record[prod_id] = {'Product': name, 'Quantity': qn, 'Price': pr}\n",
    "\n",
    "js = json.dumps(record)\n",
    "\n",
    "fd = open(\"records.json\",'w')\n",
    "fd.write(js)\n",
    "fd.close()\n",
    "print()\n",
    "print(\"**Item added to inventory**\")"
   ]
  },
  {
   "cell_type": "code",
   "execution_count": 5,
   "id": "474d06df",
   "metadata": {},
   "outputs": [
    {
     "data": {
      "text/plain": [
       "{'1001': {'Product': 'Honey', 'Quantity': 43, 'Price': 300},\n",
       " '1002': {'Product': 'Glucose', 'Quantity': 50, 'Price': 85},\n",
       " '1003': {'Product': 'Snickers', 'Quantity': 50, 'Price': 99},\n",
       " '1004': {'Product': 'Hide&Seek', 'Quantity': 50, 'Price': 70},\n",
       " '1005': {'Product': 'Pen stand', 'Quantity': 50, 'Price': 40},\n",
       " '1006': {'Product': 'Sticky Notes', 'Quantity': 50, 'Price': 80},\n",
       " '1007': {'Product': 'Glass Jars', 'Quantity': 50, 'Price': 200},\n",
       " '1008': {'Product': 'Perk', 'Quantity': 50, 'Price': 30},\n",
       " '1009': {'Product': 'Colgate Paste', 'Quantity': 50, 'Price': 70},\n",
       " '1010': {'Product': 'shower gel', 'Quantity': 50, 'Price': 125},\n",
       " '1011': {'Product': 'Dabur Gulabari', 'Quantity': 50, 'Price': 85},\n",
       " '1012': {'Product': 'Vaseline', 'Quantity': 50, 'Price': 300},\n",
       " '1013': {'Product': 'Face wash', 'Quantity': 50, 'Price': 100},\n",
       " '1014': {'Product': 'Parle 20-20', 'Quantity': 50, 'Price': 65},\n",
       " '1015': {'Product': 'Red Gram', 'Quantity': 50, 'Price': 80},\n",
       " '1016': {'Product': 'Green Gram', 'Quantity': 50, 'Price': 90},\n",
       " '1017': {'Product': 'Black Gram', 'Quantity': 50, 'Price': 140},\n",
       " '1018': {'Product': 'Non-stick Pan', 'Quantity': 50, 'Price': 250},\n",
       " '1019': {'Product': 'Bottle pack', 'Quantity': 50, 'Price': 100},\n",
       " '1020': {'Product': '5-star', 'Quantity': 48, 'Price': 15},\n",
       " '1021': {'Product': 'Kit-Kat', 'Quantity': 50, 'Price': 40},\n",
       " '1022': {'Product': 'Shampoo', 'Quantity': 50, 'Price': 500},\n",
       " '1023': {'Product': 'Fogg', 'Quantity': 50, 'Price': 250},\n",
       " '1024': {'Product': 'Bitcopack', 'Quantity': 50, 'Price': 100},\n",
       " '1025': {'Product': 'Apsara Extra Dark pack', 'Quantity': 50, 'Price': 85},\n",
       " '1026': {'Product': 'Thums-up', 'Quantity': 50, 'Price': 95},\n",
       " '1027': {'Product': 'Fanta', 'Quantity': 50, 'Price': 80},\n",
       " '1028': {'Product': 'Sprite', 'Quantity': 50, 'Price': 95},\n",
       " '1029': {'Product': 'Maggi', 'Quantity': 50, 'Price': 100},\n",
       " '1030': {'Product': 'Yippee', 'Quantity': 45, 'Price': 90},\n",
       " '1040': {'Product': 'ink', 'Quantity': 80, 'Price': 20}}"
      ]
     },
     "execution_count": 5,
     "metadata": {},
     "output_type": "execute_result"
    }
   ],
   "source": [
    "record"
   ]
  },
  {
   "cell_type": "code",
   "execution_count": 6,
   "id": "1fd8a599",
   "metadata": {},
   "outputs": [
    {
     "name": "stdout",
     "output_type": "stream",
     "text": [
      "Enter Prod_ID to delete:1040\n",
      "\n",
      "**Record deleted**\n"
     ]
    }
   ],
   "source": [
    "#Deleting a record\n",
    "n=str(input(\"Enter Prod_ID to delete:\"))\n",
    "if n in record:\n",
    "    del record[n]\n",
    "    print()\n",
    "    print(\"**Record deleted**\")\n",
    "else:\n",
    "    print(\"Invalid product ID!\")"
   ]
  },
  {
   "cell_type": "code",
   "execution_count": 11,
   "id": "ac082285",
   "metadata": {},
   "outputs": [
    {
     "data": {
      "text/plain": [
       "{'1001': {'Product': 'Honey', 'Quantity': 43, 'Price': 300},\n",
       " '1002': {'Product': 'Glucose', 'Quantity': 50, 'Price': 85},\n",
       " '1003': {'Product': 'Snickers', 'Quantity': 50, 'Price': 99},\n",
       " '1004': {'Product': 'Hide&Seek', 'Quantity': 50, 'Price': 70},\n",
       " '1005': {'Product': 'Pen stand', 'Quantity': 50, 'Price': 40},\n",
       " '1006': {'Product': 'Sticky Notes', 'Quantity': 50, 'Price': 80},\n",
       " '1007': {'Product': 'Glass Jars', 'Quantity': 50, 'Price': 200},\n",
       " '1008': {'Product': 'Perk', 'Quantity': 50, 'Price': 30},\n",
       " '1009': {'Product': 'Colgate Paste', 'Quantity': 50, 'Price': 70},\n",
       " '1010': {'Product': 'shower gel', 'Quantity': 50, 'Price': 125},\n",
       " '1011': {'Product': 'Dabur Gulabari', 'Quantity': 50, 'Price': 85},\n",
       " '1012': {'Product': 'Vaseline', 'Quantity': 50, 'Price': 300},\n",
       " '1013': {'Product': 'Face wash', 'Quantity': 50, 'Price': 100},\n",
       " '1014': {'Product': 'Parle 20-20', 'Quantity': 50, 'Price': 65},\n",
       " '1015': {'Product': 'Red Gram', 'Quantity': 50, 'Price': 80},\n",
       " '1016': {'Product': 'Green Gram', 'Quantity': 50, 'Price': 90},\n",
       " '1017': {'Product': 'Black Gram', 'Quantity': 50, 'Price': 140},\n",
       " '1018': {'Product': 'Non-stick Pan', 'Quantity': 50, 'Price': 250},\n",
       " '1019': {'Product': 'Bottle pack', 'Quantity': 50, 'Price': 100},\n",
       " '1020': {'Product': '5-star', 'Quantity': 48, 'Price': 15},\n",
       " '1021': {'Product': 'Kit-Kat', 'Quantity': 50, 'Price': 40},\n",
       " '1022': {'Product': 'Shampoo', 'Quantity': 50, 'Price': 500},\n",
       " '1023': {'Product': 'Fogg', 'Quantity': 50, 'Price': 250},\n",
       " '1024': {'Product': 'Bitcopack', 'Quantity': 50, 'Price': 100},\n",
       " '1025': {'Product': 'Apsara Extra Dark pack', 'Quantity': 50, 'Price': 85},\n",
       " '1026': {'Product': 'Thums-up', 'Quantity': 50, 'Price': 95},\n",
       " '1027': {'Product': 'Fanta', 'Quantity': 50, 'Price': 80},\n",
       " '1028': {'Product': 'Sprite', 'Quantity': 50, 'Price': 95},\n",
       " '1029': {'Product': 'Maggi', 'Quantity': 50, 'Price': 100},\n",
       " '1030': {'Product': 'Yippee', 'Quantity': 45, 'Price': 90}}"
      ]
     },
     "execution_count": 11,
     "metadata": {},
     "output_type": "execute_result"
    }
   ],
   "source": [
    "record"
   ]
  },
  {
   "cell_type": "code",
   "execution_count": 7,
   "id": "787a9f4b",
   "metadata": {},
   "outputs": [
    {
     "name": "stdout",
     "output_type": "stream",
     "text": [
      "Enter Prod_ID to delete:10\n",
      "Invalid product ID!\n"
     ]
    }
   ],
   "source": [
    "#Deleting a record\n",
    "n=str(input(\"Enter Prod_ID to delete:\"))\n",
    "if n in record:\n",
    "    del record[n]\n",
    "    print()\n",
    "    print(\"**Record deleted**\")\n",
    "else:\n",
    "    print(\"Invalid product ID!\")"
   ]
  },
  {
   "cell_type": "code",
   "execution_count": null,
   "id": "d7d196cd",
   "metadata": {},
   "outputs": [],
   "source": []
  }
 ],
 "metadata": {
  "kernelspec": {
   "display_name": "Python 3",
   "language": "python",
   "name": "python3"
  }
 },
 "nbformat": 4,
 "nbformat_minor": 5
}
